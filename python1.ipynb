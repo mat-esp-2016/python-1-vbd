{
 "cells": [
  {
   "cell_type": "code",
   "execution_count": 1,
   "metadata": {
    "collapsed": true
   },
   "outputs": [],
   "source": [
    "%matplotlib inline\n",
    "import matplotlib.pyplot as plt\n",
    "import numpy as np"
   ]
  },
  {
   "cell_type": "markdown",
   "metadata": {},
   "source": [
    "# Configurações\n",
    "\n",
    "Importamos as bibliotecas matplot e numpy.\n",
    "Configuramos o matplot para plotar os gráficos no próprio código."
   ]
  },
  {
   "cell_type": "code",
   "execution_count": 6,
   "metadata": {
    "collapsed": false
   },
   "outputs": [],
   "source": [
    "dados = np.loadtxt(\"dados/brazil-TAVG-Trend.txt\",skiprows=70)"
   ]
  },
  {
   "cell_type": "code",
   "execution_count": 7,
   "metadata": {
    "collapsed": false
   },
   "outputs": [
    {
     "name": "stdout",
     "output_type": "stream",
     "text": [
      "[[  1.83200000e+03   1.00000000e+00  -5.75000000e-01 ...,              nan\n",
      "               nan              nan]\n",
      " [  1.83200000e+03   2.00000000e+00  -1.00500000e+00 ...,              nan\n",
      "               nan              nan]\n",
      " [  1.83200000e+03   3.00000000e+00  -7.93000000e-01 ...,              nan\n",
      "               nan              nan]\n",
      " ..., \n",
      " [  2.01300000e+03   7.00000000e+00   7.72000000e-01 ...,              nan\n",
      "               nan              nan]\n",
      " [  2.01300000e+03   8.00000000e+00   1.86000000e-01 ...,              nan\n",
      "               nan              nan]\n",
      " [  2.01300000e+03   9.00000000e+00              nan ...,              nan\n",
      "               nan              nan]]\n"
     ]
    }
   ],
   "source": [
    "print(dados)"
   ]
  },
  {
   "cell_type": "code",
   "execution_count": null,
   "metadata": {
    "collapsed": true
   },
   "outputs": [],
   "source": []
  }
 ],
 "metadata": {
  "anaconda-cloud": {},
  "kernelspec": {
   "display_name": "Python [Root]",
   "language": "python",
   "name": "Python [Root]"
  },
  "language_info": {
   "codemirror_mode": {
    "name": "ipython",
    "version": 3
   },
   "file_extension": ".py",
   "mimetype": "text/x-python",
   "name": "python",
   "nbconvert_exporter": "python",
   "pygments_lexer": "ipython3",
   "version": "3.5.2"
  }
 },
 "nbformat": 4,
 "nbformat_minor": 0
}
